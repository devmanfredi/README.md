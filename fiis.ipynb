{
  "nbformat": 4,
  "nbformat_minor": 0,
  "metadata": {
    "colab": {
      "name": "fiis.ipynb",
      "provenance": [],
      "collapsed_sections": [],
      "toc_visible": true,
      "authorship_tag": "ABX9TyMLCJ2MPtgKBshaWhc2g10+",
      "include_colab_link": true
    },
    "kernelspec": {
      "name": "python3",
      "display_name": "Python 3"
    },
    "language_info": {
      "name": "python"
    }
  },
  "cells": [
    {
      "cell_type": "markdown",
      "metadata": {
        "id": "view-in-github",
        "colab_type": "text"
      },
      "source": [
        "<a href=\"https://colab.research.google.com/github/devmanfredi/devmanfredi/blob/master/fiis.ipynb\" target=\"_parent\"><img src=\"https://colab.research.google.com/assets/colab-badge.svg\" alt=\"Open In Colab\"/></a>"
      ]
    },
    {
      "cell_type": "code",
      "source": [
        "!pip install pandas yfinance requests beautifulsoup4 plotly openpyxl"
      ],
      "metadata": {
        "id": "IkVAC-cIYvYi"
      },
      "execution_count": null,
      "outputs": []
    },
    {
      "cell_type": "code",
      "metadata": {
        "id": "K5iB0YXV0QIj"
      },
      "source": [
        "#libs\n",
        "from datetime import datetime\n",
        "import pandas as pd\n",
        "import yfinance as yf\n",
        "import requests as rq\n",
        "from bs4 import BeautifulSoup\n",
        "import plotly\n",
        "import openpyxl"
      ],
      "execution_count": null,
      "outputs": []
    },
    {
      "cell_type": "code",
      "metadata": {
        "id": "Ydgaowoi0wuH"
      },
      "source": [
        "#Data Collecting\n",
        "url = \"https://www.fundsexplorer.com.br/ranking\"\n",
        "resp = rq.get(url)\n",
        "soup = BeautifulSoup(resp.text, \"lxml\")\n",
        "table = soup.find_all(\"table\")[0]\n",
        "dff = pd.read_html(str(table), decimal=',' ,thousands='.')[0]"
      ],
      "execution_count": null,
      "outputs": []
    },
    {
      "cell_type": "code",
      "source": [
        "#Format columns\n",
        "columns_formated = ['codigo_fundo','setor','preco_atual','liq_diaria','dividendo','div_yeld','dy_3m_acum','dy_6m_acum','dy_12m_acum','dy_3m_media','dy_6m_media','dy_12m_media','dy_ano','var_preco','rent_periodo','rent_acum','patri_liq','vpa','p_vpa','dypatrimonial','var_patrimonial','rent_patri_periodo','rent_patri_acum','vacancia_fisica','vacancia_financeira','qtd_ativos']\n",
        "dff.columns = columns_formated\n",
        "dff"
      ],
      "metadata": {
        "id": "ZWUemYl99p83"
      },
      "execution_count": null,
      "outputs": []
    },
    {
      "cell_type": "code",
      "metadata": {
        "id": "w6vuOVG60bRv",
        "colab": {
          "base_uri": "https://localhost:8080/"
        },
        "outputId": "a0747ac3-942c-4c09-f77f-110de298d396"
      },
      "source": [
        "#to_excel\n",
        "data_e_hora_atuais = datetime.now()\n",
        "data_e_hora_em_texto = data_e_hora_atuais.strftime('%d_%m_%Y_%H%M')\n",
        "name = 'fiis_{}{}'.format(data_e_hora_em_texto, '.xlsx')\n",
        "print(name)\n",
        "dff.to_excel(name)"
      ],
      "execution_count": null,
      "outputs": [
        {
          "output_type": "stream",
          "name": "stdout",
          "text": [
            "fiis_07_05_2022_1958.xlsx\n"
          ]
        }
      ]
    },
    {
      "cell_type": "markdown",
      "source": [
        "p1.mudar formatação no excel de . -> , \n",
        "p2.abrir documento no excel e mudar para numero\n",
        "p3.adicionar 4 casas decimais nos numeros que foram formatados\n",
        "voltar para p1. dessa vez invertido\n",
        "salvar csv com utf-8 por virgula"
      ],
      "metadata": {
        "id": "LLDfK5uI3LQP"
      }
    },
    {
      "cell_type": "code",
      "metadata": {
        "id": "V6FpKaAS0dhc"
      },
      "source": [
        "#excel_with_csv\n",
        "df = pd.read_csv('fiis.csv', decimal=',', thousands='.', delimiter=',')\n",
        "df"
      ],
      "execution_count": null,
      "outputs": []
    },
    {
      "cell_type": "code",
      "metadata": {
        "id": "a9o2aot00iN-"
      },
      "source": [
        "#get_symbols\n",
        "symbols = df['codigo_fundo'] + '.SA'\n",
        "symbols"
      ],
      "execution_count": null,
      "outputs": []
    },
    {
      "cell_type": "code",
      "metadata": {
        "id": "GBVUNupg0jDQ"
      },
      "source": [
        "def get_funds(name):\n",
        "    print(\"name: \" , name)\n",
        "    stock = yf.download(name, start=datetime(2017,12,1), end=datetime.today())\n",
        "    return stock\n",
        "\n",
        "stock_dict = {}\n",
        "\n",
        "for symbol in symbols:\n",
        "    try:\n",
        "        stock_dict[symbol] = get_funds(symbol)\n",
        "    except:\n",
        "        print(\"DO NOT FIND FOR TICKET: \" , symbol)\n",
        "print(\"END\")"
      ],
      "execution_count": null,
      "outputs": []
    },
    {
      "cell_type": "code",
      "source": [
        "returns = pd.DataFrame()\n",
        "\n",
        "for key in stock_dict.keys():\n",
        "  returns[key] = stock_dict[key]['Adj Close'].pct_change()\n",
        "\n",
        "returns.head()\n",
        "\n",
        "# print(returns)"
      ],
      "metadata": {
        "id": "32HhqSsIMXJn"
      },
      "execution_count": null,
      "outputs": []
    },
    {
      "cell_type": "code",
      "source": [
        "discount_dict = {}\n",
        "\n",
        "def calcula_desconto(df):\n",
        "  max_price = df['Adj Close'].describe()['75%']\n",
        "  last_price = df['Adj Close'].iloc()[-1]\n",
        "  return (last_price - max_price)/max_price"
      ],
      "metadata": {
        "id": "XS2_Hl8vO-rz"
      },
      "execution_count": null,
      "outputs": []
    },
    {
      "cell_type": "code",
      "source": [
        "for tick in stock_dict.keys():\n",
        "  try:\n",
        "    discount_dict[tick] = calcula_desconto(stock_dict[tick])\n",
        "  except:\n",
        "    discount_dict[tick] = 0\n",
        "\n",
        "discount_dict"
      ],
      "metadata": {
        "id": "Y6BZhYAsPtlL"
      },
      "execution_count": null,
      "outputs": []
    },
    {
      "cell_type": "code",
      "source": [
        "def get_sector(stock):\n",
        "  return [x for x in df[symbols == stock]['setor']]\n",
        "\n",
        "stock_info_df = pd.DataFrame.from_dict(discount_dict, orient='index').reset_index()\n",
        "stock_info_df.columns = ['ticker', 'discount']\n",
        "stock_info_df['sector'] = [get_sector(tick)[0] for tick in stock_info_df['ticker']]\n",
        "\n",
        "stock_info_df"
      ],
      "metadata": {
        "id": "Do1ni46uQiUZ"
      },
      "execution_count": null,
      "outputs": []
    },
    {
      "cell_type": "code",
      "source": [
        "def get_dy(stock):\n",
        "  return [x for x in df[symbols == stock]['dividendo']]\n",
        "\n",
        "stock_info_df['dy'] = [get_dy(tick)[0] for tick in stock_info_df['ticker']]\n",
        "\n",
        "stock_info_df"
      ],
      "metadata": {
        "id": "dUAN_G2bSiKn"
      },
      "execution_count": null,
      "outputs": []
    },
    {
      "cell_type": "code",
      "source": [
        "std_list = []\n",
        "\n",
        "for tick in stock_info_df['ticker']:\n",
        "  std_list.append(returns[tick].std())\n",
        "\n",
        "stock_info_df['risk'] = std_list\n",
        "\n",
        "stock_info_df.sort_values(by='discount').head(10)"
      ],
      "metadata": {
        "id": "9Ma1RvzhUlvQ"
      },
      "execution_count": null,
      "outputs": []
    },
    {
      "cell_type": "code",
      "source": [
        "import plotly.express as px\n",
        "stock_info_df = stock_info_df.dropna()"
      ],
      "metadata": {
        "id": "xsQq7jgFVJ-6"
      },
      "execution_count": null,
      "outputs": []
    },
    {
      "cell_type": "code",
      "source": [
        "fig = px.scatter(stock_info_df, x='risk',y='discount',color='sector', hover_name='ticker', log_x = True)\n",
        "plotly.offline.plot(fig, filename='opportunities.html')"
      ],
      "metadata": {
        "colab": {
          "base_uri": "https://localhost:8080/",
          "height": 36
        },
        "id": "V8dm8RiZVZnL",
        "outputId": "c180fc34-7181-4ac6-a711-a1274a47f3ae"
      },
      "execution_count": null,
      "outputs": [
        {
          "output_type": "execute_result",
          "data": {
            "text/plain": [
              "'opportunities.html'"
            ],
            "application/vnd.google.colaboratory.intrinsic+json": {
              "type": "string"
            }
          },
          "metadata": {},
          "execution_count": 105
        }
      ]
    },
    {
      "cell_type": "markdown",
      "metadata": {
        "id": "-jPQ9PN5OfAh"
      },
      "source": [
        "//analise quantitativa e qaulitativa"
      ]
    }
  ]
}